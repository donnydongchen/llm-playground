{
 "cells": [
  {
   "cell_type": "code",
   "execution_count": 7,
   "metadata": {},
   "outputs": [],
   "source": [
    "from openai import OpenAI\n",
    "import os\n",
    "from dotenv import load_dotenv\n",
    "import time\n",
    "import json5\n",
    "import json"
   ]
  },
  {
   "cell_type": "code",
   "execution_count": 2,
   "metadata": {},
   "outputs": [],
   "source": [
    "_ = load_dotenv()\n",
    "openai_client = OpenAI()\n",
    "\n",
    "GPT3_MODEL = \"gpt-3.5-turbo-1106\"\n",
    "GPT4_MODEL = \"gpt-4-1106-preview\""
   ]
  },
  {
   "cell_type": "code",
   "execution_count": 4,
   "metadata": {},
   "outputs": [],
   "source": [
    "input_data = \"\"\"\n",
    "[\n",
    "  { \"name\": \"Sachin\", \"team\": \"India\" },\n",
    "  { \"name\": \"Sourav\", \"team\": \"India\" },\n",
    "  { \"name\": \"Lara\", \"team\": \"West Indies\" }\n",
    "]\n",
    "\"\"\"\n",
    "\n",
    "output_data = \"\"\"\n",
    "[\n",
    " { \"team\": \"India\", \"playerCount\": 2 },\n",
    " { \"team\": \"West Indies\", \"playerCount\": 1 }\n",
    "]\n",
    "\"\"\""
   ]
  },
  {
   "cell_type": "code",
   "execution_count": 5,
   "metadata": {},
   "outputs": [],
   "source": [
    "assistant_instructions = \"\"\"You are a MongoDB expert \n",
    "with great expertise in writing MongoDB queries for any given data \n",
    "to produce an expected output.\"\"\"\n",
    "\n",
    "user_prompt = f\"\"\"Your task is to write a MongoDB Query, \n",
    "specifically an aggregation pipeline that would produce \n",
    "the expected output for the given input.\n",
    "\n",
    "You will always return a JSON response with the following fields.\n",
    "```\n",
    "mongoDBQuery: The MongoDB aggregation pipeline to produce \n",
    "the expected output for a given input. This field corresponds \n",
    "to just the list of stages in the aggregation pipeline \n",
    "and shouldn't contain the \"db.collection.aggregate\" prefix.\n",
    "    \n",
    "queryExplanation: A detailed explanation for the query \n",
    "that was returned.\n",
    "```\n",
    "    \n",
    "Input data: {input_data} \n",
    "Expected output data: {output_data}\n",
    "\"\"\""
   ]
  },
  {
   "cell_type": "code",
   "execution_count": 8,
   "metadata": {},
   "outputs": [
    {
     "data": {
      "text/plain": [
       "'asst_hDT9ZCVxasrIqDtq0QhzgKUy'"
      ]
     },
     "execution_count": 8,
     "metadata": {},
     "output_type": "execute_result"
    }
   ],
   "source": [
    "assistant = openai_client.beta.assistants.create(\n",
    "    name=\"MongoDB assistant\",\n",
    "    instructions=assistant_instructions,\n",
    "    model=GPT3_MODEL\n",
    ")\n",
    "\n",
    "MONGO_DB_ASSISTANT_ID = assistant.id\n",
    "MONGO_DB_ASSISTANT_ID"
   ]
  },
  {
   "cell_type": "code",
   "execution_count": 9,
   "metadata": {},
   "outputs": [],
   "source": [
    "thread = openai_client.beta.threads.create()\n",
    "\n",
    "message = openai_client.beta.threads.messages.create(\n",
    "    thread_id=thread.id,\n",
    "    role=\"user\",\n",
    "    content=user_prompt\n",
    ")"
   ]
  },
  {
   "cell_type": "code",
   "execution_count": 10,
   "metadata": {},
   "outputs": [],
   "source": [
    "run = openai_client.beta.threads.runs.create(\n",
    "    thread_id=thread.id,\n",
    "    assistant_id=assistant.id\n",
    ")"
   ]
  },
  {
   "cell_type": "code",
   "execution_count": 11,
   "metadata": {},
   "outputs": [
    {
     "ename": "TabError",
     "evalue": "inconsistent use of tabs and spaces in indentation (825533230.py, line 16)",
     "output_type": "error",
     "traceback": [
      "\u001b[0;36m  Cell \u001b[0;32mIn[11], line 16\u001b[0;36m\u001b[0m\n\u001b[0;31m    finally:\u001b[0m\n\u001b[0m    ^\u001b[0m\n\u001b[0;31mTabError\u001b[0m\u001b[0;31m:\u001b[0m inconsistent use of tabs and spaces in indentation\n"
     ]
    }
   ],
   "source": [
    "for i in range(60):\n",
    "    try:\n",
    "        updated_run = openai_client.beta.threads.runs.retrieve(\n",
    "          thread_id=thread.id,\n",
    "          run_id=run.id\n",
    "        )\n",
    "        # Check if the status indicates completion\n",
    "        if updated_run.status == \"completed\":\n",
    "            messages = openai_client.beta.threads.messages.list(\n",
    "                thread_id=thread.id\n",
    "            )\n",
    "            print(f\"Assistants Response: {messages.data[0].content[0].text.value}\")\n",
    "            break\n",
    "            except Exception as e:\n",
    "                print(f\"Error: {str(e)}. Trying again...\")\n",
    "            finally:\n",
    "                time.sleep(2)\n",
    "        else:        \n",
    "            # If max_attempts reached without completion, then assistant call timed out\n",
    "            print(\"Timeout: Assistant didn't respond in time. Please try again.\")"
   ]
  },
  {
   "cell_type": "code",
   "execution_count": null,
   "metadata": {},
   "outputs": [],
   "source": []
  }
 ],
 "metadata": {
  "kernelspec": {
   "display_name": "Python 3",
   "language": "python",
   "name": "python3"
  },
  "language_info": {
   "codemirror_mode": {
    "name": "ipython",
    "version": 3
   },
   "file_extension": ".py",
   "mimetype": "text/x-python",
   "name": "python",
   "nbconvert_exporter": "python",
   "pygments_lexer": "ipython3",
   "version": "3.11.1"
  }
 },
 "nbformat": 4,
 "nbformat_minor": 2
}
